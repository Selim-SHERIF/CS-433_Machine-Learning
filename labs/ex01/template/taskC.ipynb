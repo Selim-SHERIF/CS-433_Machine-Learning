{
 "cells": [
  {
   "cell_type": "code",
   "execution_count": 2,
   "metadata": {
    "execution": {
     "iopub.execute_input": "2024-09-18T11:05:13.105914Z",
     "iopub.status.busy": "2024-09-18T11:05:13.104709Z",
     "iopub.status.idle": "2024-09-18T11:05:13.143587Z",
     "shell.execute_reply": "2024-09-18T11:05:13.142018Z",
     "shell.execute_reply.started": "2024-09-18T11:05:13.105791Z"
    }
   },
   "outputs": [
    {
     "name": "stdout",
     "output_type": "stream",
     "text": [
      "The autoreload extension is already loaded. To reload it, use:\n",
      "  %reload_ext autoreload\n"
     ]
    }
   ],
   "source": [
    "# Import necessary libraries\n",
    "%matplotlib inline\n",
    "import numpy as np\n",
    "import matplotlib.pyplot as plt\n",
    "\n",
    "%load_ext autoreload\n",
    "%autoreload 2\n",
    "\n",
    "# Load test module for sanity check\n",
    "from test_utils import test"
   ]
  },
  {
   "cell_type": "markdown",
   "metadata": {
    "id": "TYyZPqnPmhYC"
   },
   "source": [
    "Data Generation\n",
    "==="
   ]
  },
  {
   "cell_type": "code",
   "execution_count": 3,
   "metadata": {
    "execution": {
     "iopub.execute_input": "2024-09-18T11:05:19.017697Z",
     "iopub.status.busy": "2024-09-18T11:05:19.016768Z",
     "iopub.status.idle": "2024-09-18T11:05:19.050738Z",
     "shell.execute_reply": "2024-09-18T11:05:19.049167Z",
     "shell.execute_reply.started": "2024-09-18T11:05:19.017622Z"
    }
   },
   "outputs": [],
   "source": [
    "from numpy.random import rand, randn"
   ]
  },
  {
   "cell_type": "code",
   "execution_count": 4,
   "metadata": {
    "execution": {
     "iopub.execute_input": "2024-09-18T11:05:19.849367Z",
     "iopub.status.busy": "2024-09-18T11:05:19.848335Z",
     "iopub.status.idle": "2024-09-18T11:05:19.884535Z",
     "shell.execute_reply": "2024-09-18T11:05:19.883180Z",
     "shell.execute_reply.started": "2024-09-18T11:05:19.849285Z"
    }
   },
   "outputs": [],
   "source": [
    "n, d, k = 100, 2, 2"
   ]
  },
  {
   "cell_type": "code",
   "execution_count": 5,
   "metadata": {
    "execution": {
     "iopub.execute_input": "2024-09-18T11:05:34.356958Z",
     "iopub.status.busy": "2024-09-18T11:05:34.354395Z",
     "iopub.status.idle": "2024-09-18T11:05:34.393600Z",
     "shell.execute_reply": "2024-09-18T11:05:34.391903Z",
     "shell.execute_reply.started": "2024-09-18T11:05:34.356811Z"
    }
   },
   "outputs": [
    {
     "name": "stdout",
     "output_type": "stream",
     "text": [
      "[array([0.69872366, 0.75176984]), array([0.25997411, 0.14504062])]\n",
      "[array([[0.01764816, 0.        ],\n",
      "       [0.        , 0.06360523]]), array([[0.01764816, 0.        ],\n",
      "       [0.        , 0.06360523]])]\n"
     ]
    }
   ],
   "source": [
    "np.random.seed(20)\n",
    "X = rand(n, d)\n",
    "\n",
    "# means = [rand(d)  for _ in range(k)]  # works for any k\n",
    "means = [rand(d) * 0.5 + 0.5, -rand(d) * 0.5 + 0.5]  # for better plotting when k = 2\n",
    "\n",
    "S = np.diag(rand(d))\n",
    "\n",
    "sigmas = [S] * k  # we'll use the same Sigma for all clusters for better visual results\n",
    "\n",
    "print(means)\n",
    "print(sigmas)"
   ]
  },
  {
   "cell_type": "markdown",
   "metadata": {},
   "source": [
    "## Computing the probability density"
   ]
  },
  {
   "cell_type": "code",
   "execution_count": 9,
   "metadata": {
    "execution": {
     "iopub.execute_input": "2024-09-18T11:22:46.821059Z",
     "iopub.status.busy": "2024-09-18T11:22:46.819973Z",
     "iopub.status.idle": "2024-09-18T11:22:46.861029Z",
     "shell.execute_reply": "2024-09-18T11:22:46.859393Z",
     "shell.execute_reply.started": "2024-09-18T11:22:46.820974Z"
    }
   },
   "outputs": [
    {
     "data": {
      "text/plain": [
       "array([0, 0])"
      ]
     },
     "execution_count": 9,
     "metadata": {},
     "output_type": "execute_result"
    }
   ],
   "source": [
    "np.array([0, 0])"
   ]
  },
  {
   "cell_type": "code",
   "execution_count": 32,
   "metadata": {
    "execution": {
     "iopub.execute_input": "2024-09-18T12:01:59.971104Z",
     "iopub.status.busy": "2024-09-18T12:01:59.970175Z",
     "iopub.status.idle": "2024-09-18T12:02:00.009140Z",
     "shell.execute_reply": "2024-09-18T12:02:00.007184Z",
     "shell.execute_reply.started": "2024-09-18T12:01:59.971029Z"
    }
   },
   "outputs": [
    {
     "name": "stdout",
     "output_type": "stream",
     "text": [
      "❌ The are some issues with your implementation of `compute_p`:\n",
      "**********************************************************************\n",
      "File \"__main__\", line 13, in compute_p\n",
      "Failed example:\n",
      "    compute_p(np.array([[0, 0], [1, 1]]), np.array([0, 0]), np.eye(2))\n",
      "Expected:\n",
      "    array([0.15915494, 0.05854983])\n",
      "Got:\n",
      "    [[0. 0.]\n",
      "     [1. 1.]]\n",
      "    [[0. 1.]\n",
      "     [0. 1.]]\n",
      "    array([[0.15915494, 0.09653235],\n",
      "           [0.15915494, 0.09653235]])\n",
      "**********************************************************************\n"
     ]
    }
   ],
   "source": [
    "def compute_p(X, mean, sigma):\n",
    "    \"\"\"\n",
    "    Compute the probability of each data point in X under a Gaussian distribution\n",
    "\n",
    "    Args:\n",
    "        X: (n, d) numpy array, where each row corresponds to a data point\n",
    "        mean: (d, ) numpy array, the mean of the Gaussian distribution\n",
    "        sigma: (d, d) numpy array, the covariance matrix of the Gaussian distribution\n",
    "\n",
    "    Returns:\n",
    "        p: (n, ) numpy array, the probability of each data point\n",
    "\n",
    "    >>> compute_p(np.array([[0, 0], [1, 1]]), np.array([0, 0]), np.eye(2))\n",
    "    array([0.15915494, 0.05854983])\n",
    "    \"\"\"\n",
    "    # ***************************************************\n",
    "    n = X.shape[0]\n",
    "    d = X.shape[1]\n",
    "    dxm = X-mean\n",
    "    AB=np.dot(np.linalg.inv(sigma),dxm)\n",
    "    print(AB)\n",
    "    AB=np.dot(np.transpose(dxm), np.linalg.inv(sigma))\n",
    "    print(AB)\n",
    "    p = ((2*np.pi)**(d/2) * np.linalg.det(sigma)**0.5)**(-1) * np.exp(-0.5*np.dot(np.transpose(dxm),AB))\n",
    "    return(p)\n",
    "    # ***************************************************\n",
    "\n",
    "\n",
    "test(compute_p)"
   ]
  },
  {
   "cell_type": "code",
   "execution_count": null,
   "metadata": {},
   "outputs": [],
   "source": [
    "ps = [\n",
    "    compute_p(X, m, s) for m, s in zip(means, sigmas)\n",
    "]  # exercise: try to do this without looping"
   ]
  },
  {
   "cell_type": "code",
   "execution_count": null,
   "metadata": {},
   "outputs": [],
   "source": [
    "assignments = np.argmax(ps, axis=0)\n",
    "print(assignments)"
   ]
  },
  {
   "cell_type": "code",
   "execution_count": null,
   "metadata": {},
   "outputs": [],
   "source": [
    "colors = np.array([\"red\", \"green\"])[assignments]\n",
    "plt.scatter(X[:, 0], X[:, 1], c=colors, s=100)\n",
    "plt.scatter(np.array(means)[:, 0], np.array(means)[:, 1], marker=\"*\", s=200)\n",
    "plt.show()"
   ]
  },
  {
   "cell_type": "markdown",
   "metadata": {
    "id": "VsIOpA8QmhYI"
   },
   "source": [
    "Solution\n",
    "==="
   ]
  },
  {
   "cell_type": "code",
   "execution_count": null,
   "metadata": {},
   "outputs": [],
   "source": [
    "def compute_log_p(X, mean, sigma):\n",
    "    \"\"\"\n",
    "    Compute the log probability of each data point in X under a Gaussian distribution\n",
    "\n",
    "    Args:\n",
    "        X: (n, d) numpy array, where each row corresponds to a data point\n",
    "        mean: (d, ) numpy array, the mean of the Gaussian distribution\n",
    "        sigma: (d, d) numpy array, the covariance matrix of the Gaussian distribution\n",
    "\n",
    "    Returns:\n",
    "        log_p: (n, ) numpy array, the log probability of each data point\n",
    "\n",
    "    >>> compute_log_p(np.array([[0, 0], [1, 1]]), np.array([0, 0]), np.eye(2))\n",
    "    array([-1.83787707, -2.83787707])\n",
    "    \"\"\"\n",
    "    # ***************************************************\n",
    "    # INSERT YOUR CODE HERE\n",
    "    # ***************************************************\n",
    "    raise NotImplementedError\n",
    "\n",
    "\n",
    "test(compute_log_p)"
   ]
  },
  {
   "cell_type": "code",
   "execution_count": null,
   "metadata": {},
   "outputs": [],
   "source": [
    "log_ps = [\n",
    "    compute_log_p(X, m, s) for m, s in zip(means, sigmas)\n",
    "]  # exercise: try to do this without looping"
   ]
  },
  {
   "cell_type": "code",
   "execution_count": null,
   "metadata": {},
   "outputs": [],
   "source": [
    "assignments = np.argmax(log_ps, axis=0)\n",
    "print(assignments)"
   ]
  },
  {
   "cell_type": "code",
   "execution_count": null,
   "metadata": {},
   "outputs": [],
   "source": [
    "colors = np.array([\"red\", \"green\"])[assignments]\n",
    "plt.scatter(X[:, 0], X[:, 1], c=colors, s=100)\n",
    "plt.scatter(np.array(means)[:, 0], np.array(means)[:, 1], marker=\"*\", s=200)\n",
    "plt.show()"
   ]
  },
  {
   "cell_type": "code",
   "execution_count": null,
   "metadata": {},
   "outputs": [],
   "source": []
  }
 ],
 "metadata": {
  "kernelspec": {
   "display_name": "Python3",
   "language": "python",
   "name": "python3"
  },
  "language_info": {
   "codemirror_mode": {
    "name": "ipython",
    "version": 3
   },
   "file_extension": ".py",
   "mimetype": "text/x-python",
   "name": "python",
   "nbconvert_exporter": "python",
   "pygments_lexer": "ipython3",
   "version": "3.12.5"
  }
 },
 "nbformat": 4,
 "nbformat_minor": 4
}
